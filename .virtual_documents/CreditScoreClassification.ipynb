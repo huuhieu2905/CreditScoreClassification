#Import Library and add Dataset
import pandas as pd
import numpy as np
import plotly.express as px
import plotly.graph_objects as go
import plotly.io as pio
pio.templates.default = "plotly_white"

data = pd.read_csv("Credit-Score-Data/Credit Score Data/train.csv")
print(data.head())


print(data.info())


#Check dataset has any null values
print(data.isnull().sum())


data["Credit_Score"].value_counts()


#Data Exploration
#1. Exploring "occupation" feature to know if the occupation affects credit scores:
fig = px.box(data, 
             x = "Occupation", 
             color = "Credit_Score", 
             title = "Credit Scores Based on Occupation", 
             color_discrete_map = {'Poor':'red',
                                   'Standard':'yellow',
                                   'Good':'green'})
fig.show()
                                                                                                                            


#2. Exploring "Annual_Income" feature to know if the Annual Inc affects credit scores:
fig = px.box(data, 
             x = "Credit_Score", 
             y = "Annual_Income",
             color = "Credit_Score", 
             title = "Credit Scores Based on Annual Inc", 
             color_discrete_map = {'Poor':'red',
                                   'Standard':'yellow',
                                   'Good':'green'})
fig.update_traces(quartilemethod = "exclusive")
fig.show()
              


#3. Exploring "Monthly_Inhand_Salary" feature to know if the Monthly Inhand salary affects credit scores:
fig = px.box(data, 
             x = "Credit_Score", 
             y = "Monthly_Inhand_Salary",
             color = "Credit_Score", 
             title = "Credit Scores Based on Monthly_Inhand", 
             color_discrete_map = {'Poor':'red',
                                   'Standard':'yellow',
                                   'Good':'green'})
fig.update_traces(quartilemethod = "exclusive")
fig.show()
              


#4. Check if having more bank accounts impacts credit scores or not:
fig = px.box(data, 
             x = "Credit_Score", 
             y = "Num_Bank_Accounts",
             color = "Credit_Score", 
             title = "Credit Scores Based on Number of Bank Acc", 
             color_discrete_map = {'Poor':'red',
                                   'Standard':'yellow',
                                   'Good':'green'})
fig.update_traces(quartilemethod = "exclusive")
fig.show()


#5. Check if having more credit card impacts credit scores or not:
fig = px.box(data, 
             x = "Credit_Score", 
             y = "Num_Credit_Card",
             color = "Credit_Score", 
             title = "Credit Scores Based on Number of Credit Card", 
             color_discrete_map = {'Poor':'red',
                                   'Standard':'yellow',
                                   'Good':'green'})
fig.update_traces(quartilemethod = "exclusive")
fig.show()


#6. Check if the average interest they pay on loans and EMIS impacts credit scores or not:
fig = px.box(data, 
             x = "Credit_Score", 
             y = "Interest_Rate",
             color = "Credit_Score", 
             title = "Credit Scores Based on Number of Average", 
             color_discrete_map = {'Poor':'red',
                                   'Standard':'yellow',
                                   'Good':'green'})
fig.update_traces(quartilemethod = "exclusive")
fig.show()


#7. Check number of loans they can take at a time for a good credit score:
fig = px.box(data, 
             x = "Credit_Score", 
             y = "Num_of_Loan",
             color = "Credit_Score", 
             title = "Credit Scores Based on Number of Num of Loan", 
             color_discrete_map = {'Poor':'red',
                                   'Standard':'yellow',
                                   'Good':'green'})
fig.update_traces(quartilemethod = "exclusive")
fig.show()


#8.Check if delaying payments on the due date impacts your credit scores or not:
fig = px.box(data, 
             x="Credit_Score", 
             y="Delay_from_due_date", 
             color="Credit_Score",
             title="Credit Scores Based on Average Number of Days Delayed for Credit card Payments", 
             color_discrete_map={'Poor':'red',
                                 'Standard':'yellow',
                                 'Good':'green'})
fig.update_traces(quartilemethod="exclusive")
fig.show()



#9. Check if frequently delaying payments will impact credit scores or not:
fig = px.box(data, 
             x="Credit_Score", 
             y="Num_of_Delayed_Payment", 
             color="Credit_Score", 
             title="Credit Scores Based on Number of Delayed Payments",
             color_discrete_map={'Poor':'red',
                                 'Standard':'yellow',
                                 'Good':'green'})
fig.update_traces(quartilemethod="exclusive")
fig.show()


#10. Check if having more debt will affect credit scores or not:
fig = px.box(data, 
             x="Credit_Score", 
             y="Outstanding_Debt", 
             color="Credit_Score", 
             title="Credit Scores Based on Outstanding Debt",
             color_discrete_map={'Poor':'red',
                                 'Standard':'yellow',
                                 'Good':'green'})
fig.update_traces(quartilemethod="exclusive")
fig.show()


#11. Check if having a high credit utilization ratio will affect credit scores or not:
fig = px.box(data,
             x = "Credit_Score",
             y = "Credit_Utilization_Ratio",
             color = "Credit_Score",
             title = "Credit Score Based on Credit Utilization Ratio",
             color_discrete_map={'Poor':'red',
                                 'Standard':'yellow',
                                 'Good':'green'})
fig.update_traces(quartilemethod = 'exclusive')
fig.show()


#12. Check if credit history age will affect credit scores or not:
fig = px.box(data, 
             x="Credit_Score", 
             y="Credit_History_Age", 
             color="Credit_Score", 
             title="Credit Scores Based on Credit History Age",
             color_discrete_map={'Poor':'red',
                                 'Standard':'yellow',
                                 'Good':'green'})
fig.update_traces(quartilemethod="exclusive")
fig.show()


#13. Check how many EMIs you can have in a month for a good credit score:
fig = px.box(data, 
             x="Credit_Score", 
             y="Total_EMI_per_month", 
             color="Credit_Score", 
             title="Credit Scores Based on Total Number of EMIs per Month",
             color_discrete_map={'Poor':'red',
                                 'Standard':'yellow',
                                 'Good':'green'})
fig.update_traces(quartilemethod="exclusive")
fig.show()


#14. Check if your monthly investments affect your credit scores or not:
fig = px.box(data, 
             x="Credit_Score", 
             y="Amount_invested_monthly", 
             color="Credit_Score", 
             title="Credit Scores Based on Amount Invested Monthly",
             color_discrete_map={'Poor':'red',
                                 'Standard':'yellow',
                                 'Good':'green'})
fig.update_traces(quartilemethod="exclusive")
fig.show()


#15. Check if your monthly balance affect your credit scores or not:
fig = px.box(data, 
             x="Credit_Score", 
             y="Monthly_Balance", 
             color="Credit_Score", 
             title="Credit Scores Based on Monthly Balance Left",
             color_discrete_map={'Poor':'red',
                                 'Standard':'yellow',
                                 'Good':'green'})
fig.update_traces(quartilemethod="exclusive")
fig.show()


#Model
#1. Credit Mix transform
data["Credit_Mix"] = data["Credit_Mix"].map({"Standard": 1,
                                             "Good":2,
                                             "Bad":0})


#2. Split data, select important feature
from sklearn.model_selection import train_test_split
x = np.array(data[["Annual_Income", "Monthly_Inhand_Salary", 
                   "Num_Bank_Accounts", "Num_Credit_Card", 
                   "Interest_Rate", "Num_of_Loan", 
                   "Delay_from_due_date", "Num_of_Delayed_Payment", 
                   "Credit_Mix", "Outstanding_Debt", 
                   "Credit_History_Age", "Monthly_Balance"]])
y = np.array(data[["Credit_Score"]])



x_train, x_test, y_train, y_test = train_test_split(x, y, test_size = 0.33, random_state=42)
from sklearn.ensemble import RandomForestClassifier
model = RandomForestClassifier()
model.fit(x_train, y_train)


print("Credit Score Prediction : ")
a = float(input("Annual Income: "))
b = float(input("Monthly Inhand Salary: "))
c = float(input("Number of Bank Accounts: "))
d = float(input("Number of Credit cards: "))
e = float(input("Interest rate: "))
f = float(input("Number of Loans: "))
g = float(input("Average number of days delayed by the person: "))
h = float(input("Number of delayed payments: "))
i = input("Credit Mix (Bad: 0, Standard: 1, Good: 3) : ")
j = float(input("Outstanding Debt: "))
k = float(input("Credit History Age: "))
l = float(input("Monthly Balance: "))

features = np.array([[a, b, c, d, e, f, g, h, i, j, k, l]])
print("Predicted Credit Score = ", model.predict(features))



